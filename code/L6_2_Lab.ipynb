{
 "cells": [
  {
   "cell_type": "markdown",
   "id": "3d24ba94",
   "metadata": {},
   "source": [
    "Web Scraping using Python"
   ]
  },
  {
   "cell_type": "markdown",
   "id": "4e726b13",
   "metadata": {},
   "source": [
    "Lab 1: Single page scraping"
   ]
  },
  {
   "cell_type": "code",
   "execution_count": 2,
   "id": "eea356f6",
   "metadata": {},
   "outputs": [],
   "source": [
    "#create a function: scrape_hot100() to scrape the current top 100 songs present at https://www.billboard.com/charts/hot-100 and their respective artists, put the information into a pandas dataframe, and save the dataframe in a csv file in the current folder."
   ]
  },
  {
   "cell_type": "code",
   "execution_count": 3,
   "id": "4b815da9",
   "metadata": {},
   "outputs": [],
   "source": [
    "import requests\n",
    "from bs4 import BeautifulSoup\n",
    "import pandas as pd\n",
    "\n",
    "#from time import sleep\n",
    "#from random import randint\n"
   ]
  },
  {
   "cell_type": "code",
   "execution_count": 4,
   "id": "e98b480b",
   "metadata": {},
   "outputs": [],
   "source": [
    "url = 'https://www.billboard.com/charts/hot-100'\n",
    "#wait_time = randint(1, 5) # 5"
   ]
  },
  {
   "cell_type": "code",
   "execution_count": 5,
   "id": "d66222e0",
   "metadata": {},
   "outputs": [],
   "source": [
    "# Function to scrape Billboard Hot 100 songs and artists\n",
    "def scrape_hot100(url:str):\n",
    "    # Send an HTTP GET request to the website\n",
    "    song_list= []\n",
    "    artists_name = []\n",
    "    \n",
    "    response = requests.get(url) #fetch the page\n",
    "\n",
    "    if response.status_code == 200:\n",
    "        # Parse the HTML content of the page\n",
    "        soup = BeautifulSoup(response.text, 'html.parser')\n",
    "        \n",
    "        #parse List Items\n",
    "        items = soup.select('li h3#title-of-a-story.c-title')\n",
    "        \n",
    "        #extract song titles\n",
    "        song_names = [item.text.strip() for item in items]\n",
    "        \n",
    "        #extract artists\n",
    "        items = soup.select('li h3#title-of-a-story.c-title + span')\n",
    "        \n",
    "        artist_names = [item.text.strip() for item in items]\n",
    "\n",
    "        # Create a DataFrame to store the data\n",
    "        df = pd.DataFrame({'Song': song_names, 'Artist': artist_names})\n",
    "\n",
    "        # Save the DataFrame to a CSV file in the current folder\n",
    "        df.to_csv(r'..\\data\\billboard_hot100.csv', index=False)\n",
    "        print(\"Data has been scraped and saved to 'billboard_hot100.csv'.\")\n",
    "        return df\n",
    "    else:\n",
    "        print(\"Failed to retrieve the webpage.\")"
   ]
  },
  {
   "cell_type": "code",
   "execution_count": 6,
   "id": "afaa7caa",
   "metadata": {},
   "outputs": [
    {
     "name": "stdout",
     "output_type": "stream",
     "text": [
      "Data has been scraped and saved to 'billboard_hot100.csv'.\n"
     ]
    }
   ],
   "source": [
    "hot_songs=scrape_hot100(url)\n",
    "hot_songs[\"Hot\"]=\"H\""
   ]
  },
  {
   "cell_type": "markdown",
   "id": "86f4106b",
   "metadata": {},
   "source": [
    "Lab 6_2 NOT Hot Songs"
   ]
  },
  {
   "cell_type": "code",
   "execution_count": null,
   "id": "8191496c",
   "metadata": {},
   "outputs": [],
   "source": []
  }
 ],
 "metadata": {
  "kernelspec": {
   "display_name": "Python 3 (ipykernel)",
   "language": "python",
   "name": "python3"
  },
  "language_info": {
   "codemirror_mode": {
    "name": "ipython",
    "version": 3
   },
   "file_extension": ".py",
   "mimetype": "text/x-python",
   "name": "python",
   "nbconvert_exporter": "python",
   "pygments_lexer": "ipython3",
   "version": "3.11.4"
  }
 },
 "nbformat": 4,
 "nbformat_minor": 5
}
