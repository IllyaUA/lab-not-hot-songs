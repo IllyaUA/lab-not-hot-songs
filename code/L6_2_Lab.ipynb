{
 "cells": [
  {
   "cell_type": "markdown",
   "id": "3d24ba94",
   "metadata": {},
   "source": [
    "Web Scraping using Python"
   ]
  },
  {
   "cell_type": "markdown",
   "id": "4e726b13",
   "metadata": {},
   "source": [
    "Lab 1: Single page scraping"
   ]
  },
  {
   "cell_type": "code",
   "execution_count": 2,
   "id": "eea356f6",
   "metadata": {},
   "outputs": [],
   "source": [
    "#create a function: scrape_hot100() to scrape the current top 100 songs present at https://www.billboard.com/charts/hot-100 and their respective artists, put the information into a pandas dataframe, and save the dataframe in a csv file in the current folder."
   ]
  },
  {
   "cell_type": "code",
   "execution_count": 3,
   "id": "4b815da9",
   "metadata": {},
   "outputs": [],
   "source": [
    "import requests\n",
    "from bs4 import BeautifulSoup\n",
    "import pandas as pd\n",
    "\n",
    "#from time import sleep\n",
    "#from random import randint\n"
   ]
  },
  {
   "cell_type": "code",
   "execution_count": 4,
   "id": "e98b480b",
   "metadata": {},
   "outputs": [],
   "source": [
    "url = 'https://www.billboard.com/charts/hot-100'\n",
    "#wait_time = randint(1, 5) # 5"
   ]
  },
  {
   "cell_type": "code",
   "execution_count": 5,
   "id": "d66222e0",
   "metadata": {},
   "outputs": [],
   "source": [
    "# Function to scrape Billboard Hot 100 songs and artists\n",
    "def scrape_hot100(url:str):\n",
    "    # Send an HTTP GET request to the website\n",
    "    song_list= []\n",
    "    artists_name = []\n",
    "    \n",
    "    response = requests.get(url) #fetch the page\n",
    "\n",
    "    if response.status_code == 200:\n",
    "        # Parse the HTML content of the page\n",
    "        soup = BeautifulSoup(response.text, 'html.parser')\n",
    "        \n",
    "        #parse List Items\n",
    "        items = soup.select('li h3#title-of-a-story.c-title')\n",
    "        \n",
    "        #extract song titles\n",
    "        song_names = [item.text.strip() for item in items]\n",
    "        \n",
    "        #extract artists\n",
    "        items = soup.select('li h3#title-of-a-story.c-title + span')\n",
    "        \n",
    "        artist_names = [item.text.strip() for item in items]\n",
    "\n",
    "        # Create a DataFrame to store the data\n",
    "        df = pd.DataFrame({'Song': song_names, 'Artist': artist_names})\n",
    "\n",
    "        # Save the DataFrame to a CSV file in the current folder\n",
    "        df.to_csv(r'..\\data\\billboard_hot100.csv', index=False)\n",
    "        print(\"Data has been scraped and saved to 'billboard_hot100.csv'.\")\n",
    "        return df\n",
    "    else:\n",
    "        print(\"Failed to retrieve the webpage.\")"
   ]
  },
  {
   "cell_type": "code",
   "execution_count": 14,
   "id": "afaa7caa",
   "metadata": {},
   "outputs": [
    {
     "name": "stdout",
     "output_type": "stream",
     "text": [
      "Data has been scraped and saved to 'billboard_hot100.csv'.\n"
     ]
    }
   ],
   "source": [
    "hot_songs=scrape_hot100(url)\n",
    "hot_songs[\"Hot\"]=\"H\"\n"
   ]
  },
  {
   "cell_type": "code",
   "execution_count": 16,
   "id": "fbc093a8",
   "metadata": {},
   "outputs": [],
   "source": [
    "hot_songs.to_csv(r'..\\data\\top100.csv', index=False)"
   ]
  },
  {
   "cell_type": "markdown",
   "id": "12f2cca2",
   "metadata": {},
   "source": [
    "Lab 6_2 NOT Hot Songs"
   ]
  },
  {
   "cell_type": "code",
   "execution_count": 20,
   "id": "c2c5c918",
   "metadata": {},
   "outputs": [
    {
     "data": {
      "text/plain": [
       "(10000, 22)"
      ]
     },
     "execution_count": 20,
     "metadata": {},
     "output_type": "execute_result"
    }
   ],
   "source": [
    "not_top_100 = pd.read_csv(r\"..\\data\\genres_v2.csv\", low_memory=False).sample(10000)\n",
    "not_top_100.shape"
   ]
  },
  {
   "cell_type": "code",
   "execution_count": 21,
   "id": "e2bc6852",
   "metadata": {},
   "outputs": [
    {
     "data": {
      "text/html": [
       "<div>\n",
       "<style scoped>\n",
       "    .dataframe tbody tr th:only-of-type {\n",
       "        vertical-align: middle;\n",
       "    }\n",
       "\n",
       "    .dataframe tbody tr th {\n",
       "        vertical-align: top;\n",
       "    }\n",
       "\n",
       "    .dataframe thead th {\n",
       "        text-align: right;\n",
       "    }\n",
       "</style>\n",
       "<table border=\"1\" class=\"dataframe\">\n",
       "  <thead>\n",
       "    <tr style=\"text-align: right;\">\n",
       "      <th></th>\n",
       "      <th>danceability</th>\n",
       "      <th>energy</th>\n",
       "      <th>key</th>\n",
       "      <th>loudness</th>\n",
       "      <th>mode</th>\n",
       "      <th>speechiness</th>\n",
       "      <th>acousticness</th>\n",
       "      <th>instrumentalness</th>\n",
       "      <th>liveness</th>\n",
       "      <th>valence</th>\n",
       "      <th>...</th>\n",
       "      <th>uri</th>\n",
       "      <th>track_href</th>\n",
       "      <th>analysis_url</th>\n",
       "      <th>duration_ms</th>\n",
       "      <th>time_signature</th>\n",
       "      <th>genre</th>\n",
       "      <th>song_name</th>\n",
       "      <th>Unnamed: 0</th>\n",
       "      <th>title</th>\n",
       "      <th>Hot</th>\n",
       "    </tr>\n",
       "  </thead>\n",
       "  <tbody>\n",
       "    <tr>\n",
       "      <th>11689</th>\n",
       "      <td>0.829</td>\n",
       "      <td>0.609</td>\n",
       "      <td>10</td>\n",
       "      <td>-10.008</td>\n",
       "      <td>1</td>\n",
       "      <td>0.0590</td>\n",
       "      <td>0.01080</td>\n",
       "      <td>0.261</td>\n",
       "      <td>0.110</td>\n",
       "      <td>0.6960</td>\n",
       "      <td>...</td>\n",
       "      <td>spotify:track:7CwPDvjGUUyPSJK8HudIlO</td>\n",
       "      <td>https://api.spotify.com/v1/tracks/7CwPDvjGUUyP...</td>\n",
       "      <td>https://api.spotify.com/v1/audio-analysis/7CwP...</td>\n",
       "      <td>130000</td>\n",
       "      <td>4</td>\n",
       "      <td>Trap Metal</td>\n",
       "      <td>Alone</td>\n",
       "      <td>NaN</td>\n",
       "      <td>NaN</td>\n",
       "      <td>N</td>\n",
       "    </tr>\n",
       "    <tr>\n",
       "      <th>6024</th>\n",
       "      <td>0.715</td>\n",
       "      <td>0.574</td>\n",
       "      <td>7</td>\n",
       "      <td>-6.236</td>\n",
       "      <td>1</td>\n",
       "      <td>0.0817</td>\n",
       "      <td>0.37300</td>\n",
       "      <td>0.000</td>\n",
       "      <td>0.174</td>\n",
       "      <td>0.3370</td>\n",
       "      <td>...</td>\n",
       "      <td>spotify:track:1wa6QQsdSE3X2GbRljGpFk</td>\n",
       "      <td>https://api.spotify.com/v1/tracks/1wa6QQsdSE3X...</td>\n",
       "      <td>https://api.spotify.com/v1/audio-analysis/1wa6...</td>\n",
       "      <td>183703</td>\n",
       "      <td>4</td>\n",
       "      <td>Underground Rap</td>\n",
       "      <td>Candles</td>\n",
       "      <td>NaN</td>\n",
       "      <td>NaN</td>\n",
       "      <td>N</td>\n",
       "    </tr>\n",
       "    <tr>\n",
       "      <th>24572</th>\n",
       "      <td>0.665</td>\n",
       "      <td>0.986</td>\n",
       "      <td>7</td>\n",
       "      <td>-6.541</td>\n",
       "      <td>1</td>\n",
       "      <td>0.0845</td>\n",
       "      <td>0.00111</td>\n",
       "      <td>0.765</td>\n",
       "      <td>0.309</td>\n",
       "      <td>0.0709</td>\n",
       "      <td>...</td>\n",
       "      <td>spotify:track:4YlbI52eByNxPhEKyK9u8l</td>\n",
       "      <td>https://api.spotify.com/v1/tracks/4YlbI52eByNx...</td>\n",
       "      <td>https://api.spotify.com/v1/audio-analysis/4Ylb...</td>\n",
       "      <td>368955</td>\n",
       "      <td>4</td>\n",
       "      <td>techno</td>\n",
       "      <td>NaN</td>\n",
       "      <td>3075.0</td>\n",
       "      <td>techno. only. (08/02)</td>\n",
       "      <td>N</td>\n",
       "    </tr>\n",
       "    <tr>\n",
       "      <th>22477</th>\n",
       "      <td>0.860</td>\n",
       "      <td>0.824</td>\n",
       "      <td>8</td>\n",
       "      <td>-7.207</td>\n",
       "      <td>1</td>\n",
       "      <td>0.0518</td>\n",
       "      <td>0.02400</td>\n",
       "      <td>0.657</td>\n",
       "      <td>0.205</td>\n",
       "      <td>0.8700</td>\n",
       "      <td>...</td>\n",
       "      <td>spotify:track:4qetR2UUyBeUrJ9DbYrpVQ</td>\n",
       "      <td>https://api.spotify.com/v1/tracks/4qetR2UUyBeU...</td>\n",
       "      <td>https://api.spotify.com/v1/audio-analysis/4qet...</td>\n",
       "      <td>163790</td>\n",
       "      <td>4</td>\n",
       "      <td>techhouse</td>\n",
       "      <td>NaN</td>\n",
       "      <td>962.0</td>\n",
       "      <td>Tech House by DOT Dance</td>\n",
       "      <td>N</td>\n",
       "    </tr>\n",
       "    <tr>\n",
       "      <th>37599</th>\n",
       "      <td>0.633</td>\n",
       "      <td>0.795</td>\n",
       "      <td>8</td>\n",
       "      <td>-3.614</td>\n",
       "      <td>1</td>\n",
       "      <td>0.0489</td>\n",
       "      <td>0.00493</td>\n",
       "      <td>0.661</td>\n",
       "      <td>0.189</td>\n",
       "      <td>0.0911</td>\n",
       "      <td>...</td>\n",
       "      <td>spotify:track:6JXwoZPnhqbqpnh1BMUkSe</td>\n",
       "      <td>https://api.spotify.com/v1/tracks/6JXwoZPnhqbq...</td>\n",
       "      <td>https://api.spotify.com/v1/audio-analysis/6JXw...</td>\n",
       "      <td>157241</td>\n",
       "      <td>4</td>\n",
       "      <td>dnb</td>\n",
       "      <td>NaN</td>\n",
       "      <td>16208.0</td>\n",
       "      <td>UKF Drum &amp; Bass - All Uploads</td>\n",
       "      <td>N</td>\n",
       "    </tr>\n",
       "  </tbody>\n",
       "</table>\n",
       "<p>5 rows × 23 columns</p>\n",
       "</div>"
      ],
      "text/plain": [
       "       danceability  energy  key  loudness  mode  speechiness  acousticness  \\\n",
       "11689         0.829   0.609   10   -10.008     1       0.0590       0.01080   \n",
       "6024          0.715   0.574    7    -6.236     1       0.0817       0.37300   \n",
       "24572         0.665   0.986    7    -6.541     1       0.0845       0.00111   \n",
       "22477         0.860   0.824    8    -7.207     1       0.0518       0.02400   \n",
       "37599         0.633   0.795    8    -3.614     1       0.0489       0.00493   \n",
       "\n",
       "       instrumentalness  liveness  valence  ...  \\\n",
       "11689             0.261     0.110   0.6960  ...   \n",
       "6024              0.000     0.174   0.3370  ...   \n",
       "24572             0.765     0.309   0.0709  ...   \n",
       "22477             0.657     0.205   0.8700  ...   \n",
       "37599             0.661     0.189   0.0911  ...   \n",
       "\n",
       "                                        uri  \\\n",
       "11689  spotify:track:7CwPDvjGUUyPSJK8HudIlO   \n",
       "6024   spotify:track:1wa6QQsdSE3X2GbRljGpFk   \n",
       "24572  spotify:track:4YlbI52eByNxPhEKyK9u8l   \n",
       "22477  spotify:track:4qetR2UUyBeUrJ9DbYrpVQ   \n",
       "37599  spotify:track:6JXwoZPnhqbqpnh1BMUkSe   \n",
       "\n",
       "                                              track_href  \\\n",
       "11689  https://api.spotify.com/v1/tracks/7CwPDvjGUUyP...   \n",
       "6024   https://api.spotify.com/v1/tracks/1wa6QQsdSE3X...   \n",
       "24572  https://api.spotify.com/v1/tracks/4YlbI52eByNx...   \n",
       "22477  https://api.spotify.com/v1/tracks/4qetR2UUyBeU...   \n",
       "37599  https://api.spotify.com/v1/tracks/6JXwoZPnhqbq...   \n",
       "\n",
       "                                            analysis_url duration_ms  \\\n",
       "11689  https://api.spotify.com/v1/audio-analysis/7CwP...      130000   \n",
       "6024   https://api.spotify.com/v1/audio-analysis/1wa6...      183703   \n",
       "24572  https://api.spotify.com/v1/audio-analysis/4Ylb...      368955   \n",
       "22477  https://api.spotify.com/v1/audio-analysis/4qet...      163790   \n",
       "37599  https://api.spotify.com/v1/audio-analysis/6JXw...      157241   \n",
       "\n",
       "      time_signature            genre  song_name  Unnamed: 0  \\\n",
       "11689              4       Trap Metal      Alone         NaN   \n",
       "6024               4  Underground Rap    Candles         NaN   \n",
       "24572              4           techno        NaN      3075.0   \n",
       "22477              4        techhouse        NaN       962.0   \n",
       "37599              4              dnb        NaN     16208.0   \n",
       "\n",
       "                               title Hot  \n",
       "11689                            NaN   N  \n",
       "6024                             NaN   N  \n",
       "24572          techno. only. (08/02)   N  \n",
       "22477        Tech House by DOT Dance   N  \n",
       "37599  UKF Drum & Bass - All Uploads   N  \n",
       "\n",
       "[5 rows x 23 columns]"
      ]
     },
     "metadata": {},
     "output_type": "display_data"
    },
    {
     "data": {
      "text/plain": [
       "(10000, 23)"
      ]
     },
     "metadata": {},
     "output_type": "display_data"
    }
   ],
   "source": [
    "not_top_100[\"Hot\"]=\"N\"\n",
    "display(not_top_100.head(), not_top_100.shape)\n"
   ]
  },
  {
   "cell_type": "code",
   "execution_count": 22,
   "id": "162ffb0a",
   "metadata": {},
   "outputs": [],
   "source": [
    "not_top_100.to_csv(r'..\\data\\not_top100.csv', index=False)"
   ]
  },
  {
   "cell_type": "code",
   "execution_count": 17,
   "id": "d76d14d8",
   "metadata": {},
   "outputs": [
    {
     "data": {
      "text/html": [
       "<div>\n",
       "<style scoped>\n",
       "    .dataframe tbody tr th:only-of-type {\n",
       "        vertical-align: middle;\n",
       "    }\n",
       "\n",
       "    .dataframe tbody tr th {\n",
       "        vertical-align: top;\n",
       "    }\n",
       "\n",
       "    .dataframe thead th {\n",
       "        text-align: right;\n",
       "    }\n",
       "</style>\n",
       "<table border=\"1\" class=\"dataframe\">\n",
       "  <thead>\n",
       "    <tr style=\"text-align: right;\">\n",
       "      <th></th>\n",
       "      <th>Song</th>\n",
       "      <th>Artist</th>\n",
       "      <th>Hot</th>\n",
       "    </tr>\n",
       "  </thead>\n",
       "  <tbody>\n",
       "    <tr>\n",
       "      <th>0</th>\n",
       "      <td>Paint The Town Red</td>\n",
       "      <td>Doja Cat</td>\n",
       "      <td>H</td>\n",
       "    </tr>\n",
       "    <tr>\n",
       "      <th>1</th>\n",
       "      <td>Snooze</td>\n",
       "      <td>SZA</td>\n",
       "      <td>H</td>\n",
       "    </tr>\n",
       "    <tr>\n",
       "      <th>2</th>\n",
       "      <td>Cruel Summer</td>\n",
       "      <td>Taylor Swift</td>\n",
       "      <td>H</td>\n",
       "    </tr>\n",
       "    <tr>\n",
       "      <th>3</th>\n",
       "      <td>Fast Car</td>\n",
       "      <td>Luke Combs</td>\n",
       "      <td>H</td>\n",
       "    </tr>\n",
       "    <tr>\n",
       "      <th>4</th>\n",
       "      <td>3D</td>\n",
       "      <td>Jung Kook &amp; Jack Harlow</td>\n",
       "      <td>H</td>\n",
       "    </tr>\n",
       "  </tbody>\n",
       "</table>\n",
       "</div>"
      ],
      "text/plain": [
       "                 Song                   Artist Hot\n",
       "0  Paint The Town Red                 Doja Cat   H\n",
       "1              Snooze                      SZA   H\n",
       "2        Cruel Summer             Taylor Swift   H\n",
       "3            Fast Car               Luke Combs   H\n",
       "4                  3D  Jung Kook & Jack Harlow   H"
      ]
     },
     "metadata": {},
     "output_type": "display_data"
    }
   ],
   "source": [
    "top_100 = pd.read_csv(r'..\\data\\top100.csv')\n",
    "display(top_100.head())"
   ]
  },
  {
   "cell_type": "code",
   "execution_count": null,
   "id": "98888deb",
   "metadata": {},
   "outputs": [],
   "source": []
  }
 ],
 "metadata": {
  "kernelspec": {
   "display_name": "Python 3 (ipykernel)",
   "language": "python",
   "name": "python3"
  },
  "language_info": {
   "codemirror_mode": {
    "name": "ipython",
    "version": 3
   },
   "file_extension": ".py",
   "mimetype": "text/x-python",
   "name": "python",
   "nbconvert_exporter": "python",
   "pygments_lexer": "ipython3",
   "version": "3.11.4"
  }
 },
 "nbformat": 4,
 "nbformat_minor": 5
}
